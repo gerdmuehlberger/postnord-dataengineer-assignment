{
 "cells": [
  {
   "cell_type": "code",
   "execution_count": null,
   "metadata": {},
   "outputs": [],
   "source": [
    "import numpy as np\n",
    "import pandas as pd"
   ]
  },
  {
   "cell_type": "code",
   "execution_count": null,
   "metadata": {},
   "outputs": [],
   "source": [
    "df_sourcedata=pd.read_csv('../sourcedata/musical_instruments_reviews_raw.csv')"
   ]
  },
  {
   "cell_type": "code",
   "execution_count": null,
   "metadata": {},
   "outputs": [],
   "source": [
    "df_sourcedata.head()"
   ]
  },
  {
   "cell_type": "code",
   "execution_count": null,
   "metadata": {},
   "outputs": [],
   "source": [
    "df_sourcedata.columns"
   ]
  },
  {
   "cell_type": "code",
   "execution_count": null,
   "metadata": {},
   "outputs": [],
   "source": [
    "df_sourcedata[\"unixReviewTime\"][:10]"
   ]
  },
  {
   "cell_type": "code",
   "execution_count": null,
   "metadata": {},
   "outputs": [],
   "source": [
    "from datetime import datetime\n",
    "df_sourcedata[\"unixReviewTime\"].apply(lambda x: datetime.fromtimestamp(x).strftime(\"%Y-%m-%d-%H\"))\n",
    "df_sourcedata['reviewTimeInHours'] = df_sourcedata[\"unixReviewTime\"].apply(lambda x: datetime.utcfromtimestamp(x).strftime(\"%Y-%m-%d-%H\"))\n",
    "\n",
    "#seems like there is no hourly data available in this dataset"
   ]
  },
  {
   "cell_type": "code",
   "execution_count": null,
   "metadata": {},
   "outputs": [],
   "source": [
    "df_removed_dups=df_sourcedata.drop_duplicates(subset=['reviewerID', 'asin', 'reviewTimeInHours'])\n",
    "print(df_sourcedata.shape)\n",
    "print(df_removed_dups.shape)"
   ]
  },
  {
   "cell_type": "code",
   "execution_count": null,
   "metadata": {},
   "outputs": [],
   "source": [
    "# assuming this means helpful[0] out of helpful[1] thinks this is helpful\n",
    "#df_removed_dups['helpful']\n",
    "\n",
    "# transform this into percentage\n",
    "df_removed_dups['helpful_aslist'] = df_removed_dups['helpful'].apply(lambda x: x.strip('][').split(', '))\n",
    "df_removed_dups['helpful_percentage'] = df_removed_dups['helpful_aslist'].apply(lambda x: int(x[0])/int(x[1]) if int(x[1]) > 0 else 0)\n"
   ]
  },
  {
   "cell_type": "code",
   "execution_count": null,
   "metadata": {},
   "outputs": [],
   "source": [
    "#df_removed_dups.groupby('reviewTime').median()\n",
    "df_mean_helpful = df_removed_dups[['reviewTimeInHours', 'helpful_percentage']].groupby('reviewTimeInHours').mean()"
   ]
  },
  {
   "cell_type": "code",
   "execution_count": null,
   "metadata": {},
   "outputs": [],
   "source": [
    "df_median_helpful = df_removed_dups[['reviewTimeInHours', 'helpful_percentage']].groupby('reviewTimeInHours').median()"
   ]
  },
  {
   "cell_type": "code",
   "execution_count": null,
   "metadata": {},
   "outputs": [],
   "source": [
    "#average overall rating of the product by product ID (asin), of each hourly partition\n",
    "df_average_overall = df_removed_dups.groupby(['reviewTimeInHours', 'asin'])[['overall', 'helpful_percentage']].mean().reset_index()\n",
    "df_average_overall.shape\n",
    "\n"
   ]
  },
  {
   "cell_type": "code",
   "execution_count": null,
   "metadata": {},
   "outputs": [],
   "source": [
    "df_mean_overall=df_removed_dups[['asin', 'overall']].groupby('asin').mean().reset_index()\n",
    "df_median_overall=df_removed_dups[['asin', 'overall']].groupby('asin').median().reset_index()\n",
    "df_unique_reviews=df_removed_dups.groupby('asin')['reviewerID'].nunique().reset_index()"
   ]
  },
  {
   "cell_type": "code",
   "execution_count": null,
   "metadata": {},
   "outputs": [],
   "source": [
    "df_removed_dups['summary_length'] = df_removed_dups['summary'].apply(lambda x: len(x))"
   ]
  },
  {
   "cell_type": "code",
   "execution_count": null,
   "metadata": {},
   "outputs": [],
   "source": [
    "df_removed_dups[['summary', 'summary_length']]"
   ]
  },
  {
   "cell_type": "code",
   "execution_count": null,
   "metadata": {},
   "outputs": [],
   "source": [
    "df_average_summary_length=df_removed_dups[['asin', 'summary_length']].groupby('asin').mean().reset_index()\n",
    "df_median_summary_length=df_removed_dups[['asin', 'summary_length']].groupby('asin').mean().reset_index()"
   ]
  },
  {
   "cell_type": "code",
   "execution_count": null,
   "metadata": {},
   "outputs": [],
   "source": [
    "from functools import reduce\n",
    "\n",
    "#define list of DataFrames\n",
    "dfs = [df_mean_overall, df_median_overall, df_unique_reviews, df_average_summary_length, df_median_summary_length]\n",
    "\n",
    "#merge all DataFrames into one\n",
    "output = reduce(lambda  left,right: pd.merge(left,right,on=['asin'],\n",
    "                                            how='outer'), dfs)"
   ]
  },
  {
   "cell_type": "code",
   "execution_count": null,
   "metadata": {},
   "outputs": [],
   "source": [
    "output"
   ]
  },
  {
   "cell_type": "code",
   "execution_count": null,
   "metadata": {},
   "outputs": [],
   "source": []
  }
 ],
 "metadata": {
  "kernelspec": {
   "display_name": "Python 3",
   "language": "python",
   "name": "python3"
  },
  "language_info": {
   "codemirror_mode": {
    "name": "ipython",
    "version": 3
   },
   "file_extension": ".py",
   "mimetype": "text/x-python",
   "name": "python",
   "nbconvert_exporter": "python",
   "pygments_lexer": "ipython3",
   "version": "3.11.1"
  },
  "orig_nbformat": 4,
  "vscode": {
   "interpreter": {
    "hash": "f3f2c5b3a65f73451c2e90fcb3afdeef775cc763a310f0d1045e223a674ded6a"
   }
  }
 },
 "nbformat": 4,
 "nbformat_minor": 2
}
